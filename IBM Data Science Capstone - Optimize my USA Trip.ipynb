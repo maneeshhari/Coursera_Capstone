{
    "nbformat_minor": 1, 
    "cells": [
        {
            "source": "#  Optimize my USA trip", 
            "cell_type": "markdown", 
            "metadata": {
                "collapsed": true
            }
        }, 
        {
            "source": "## Capstone project submission for IBM Data Science professional certification\n### submitted by : Maneesh Hari Disawal", 
            "cell_type": "markdown", 
            "metadata": {}
        }, 
        {
            "source": "### Problem statement and background :\n__\"Once you have seen a beach, you have seen them all\"__, that is what they say.\n\nI'm planning to visit the United States of America next year. However, I have a limit budget and time. With that limitation, I want to maximize my experiences and visit the most variety of the states of America.\nThrough this project, I'll be trying to group together similar states, based on the tourist attractions for each state. Once an optimal number of groups of states have been calculated, one representative state from each group shall be selected as the state to visit to experience that group.", 
            "cell_type": "markdown", 
            "metadata": {}
        }, 
        {
            "source": "### Description of data\nData from FourSquare.com will be used for the purposes of this project.\nA list of top n (exact number to be confirmed based on the query limitations) tourist attractions will be queried for each state, with the following attributes:\n1. Type of attraction\n2. Average rating\n3. Representative location (assumed to be the location of the top rated attraction)\nThis is based on the initial understanding. When the actual data is extracted and explored, some other parameters may become available and might be incorporated as well.\n\n### Methodology\nBasic assumption is \"A beach, is a beach, is a beach\". \n\nIn other words, one pre-historic museum is similar to any other pre-historic museum and one walking trail is same as any other. Thus, maximising the types of attractions visited.\n\nA clustering algorithem shall be implemented to statistically group the states together based on the available data.\n\n### Known limitations\nIt is acknowledged that this system has, at least, the following limitations:\n1. All states are treated equally irrespective of their sizes, i.e. To begin with Rhode Island has the same weightage as California.\n2. The currect method does not account for factors like, cost of travel in different states, weather at the time of travel etc.", 
            "cell_type": "markdown", 
            "metadata": {}
        }, 
        {
            "source": "", 
            "cell_type": "code", 
            "metadata": {}, 
            "outputs": [], 
            "execution_count": null
        }
    ], 
    "metadata": {
        "kernelspec": {
            "display_name": "Python 3.5", 
            "name": "python3", 
            "language": "python"
        }, 
        "language_info": {
            "mimetype": "text/x-python", 
            "nbconvert_exporter": "python", 
            "version": "3.5.5", 
            "name": "python", 
            "pygments_lexer": "ipython3", 
            "file_extension": ".py", 
            "codemirror_mode": {
                "version": 3, 
                "name": "ipython"
            }
        }
    }, 
    "nbformat": 4
}